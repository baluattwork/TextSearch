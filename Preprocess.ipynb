{
 "cells": [
  {
   "cell_type": "code",
   "execution_count": 66,
   "metadata": {},
   "outputs": [],
   "source": [
    "import spacy\n",
    "import pandas as pd\n",
    "import numpy as np\n",
    "import string"
   ]
  },
  {
   "cell_type": "code",
   "execution_count": 22,
   "metadata": {},
   "outputs": [
    {
     "data": {
      "text/plain": [
       "'3.1.3'"
      ]
     },
     "execution_count": 22,
     "metadata": {},
     "output_type": "execute_result"
    }
   ],
   "source": [
    "np.__version__\n",
    "spacy.__version__"
   ]
  },
  {
   "cell_type": "code",
   "execution_count": 34,
   "metadata": {},
   "outputs": [],
   "source": [
    "nlp = spacy.load(\"en_core_web_sm\")\n",
    "\n"
   ]
  },
  {
   "cell_type": "code",
   "execution_count": 67,
   "metadata": {},
   "outputs": [],
   "source": [
    "def remove_punctation(doc):\n",
    "    return [ent for ent in doc if not ent.is_punct]\n",
    "\n",
    "def remove_stop_words(doc):\n",
    "    return [ent for ent in doc if not ent.is_stop]\n",
    "\n",
    "def remove_unclassified(doc):\n",
    "    #return [ent for ent in doc if ent.is_oov]\n",
    "    return [ent for ent in doc if ent.text not in string.punctuation]\n",
    "\n",
    "    \n",
    "def lemmatize(doc):\n",
    "    return \" \".join([ent.lemma_ for ent in doc])"
   ]
  },
  {
   "cell_type": "code",
   "execution_count": 73,
   "metadata": {},
   "outputs": [],
   "source": [
    "# looad the dataset\n",
    "df = pd.read_json('data.json')\n",
    "# loop through the dataset and process the text column\n",
    "result=[]\n",
    "for data in df.text:\n",
    "    # convert the string to lower case\n",
    "    text = data.lower()\n",
    "    # tokenize the text using spacy\n",
    "    doc = nlp(text)\n",
    "    # remove punctuation\n",
    "    punct_removed = remove_punctation(doc)\n",
    "    # remove stop words\n",
    "    stop_removed = remove_stop_words(punct_removed)\n",
    "    #remove unclassified words\n",
    "    unclass_removed = remove_unclassified(stop_removed)\n",
    "    #get lemmatized words\n",
    "    lematized = lemmatize(unclass_removed)\n",
    "    result.append(lematized)\n",
    "df['tokenized_text'] = result\n",
    "df.to_json('data1.json')\n",
    "       \n"
   ]
  }
 ],
 "metadata": {
  "kernelspec": {
   "display_name": "textsearch",
   "language": "python",
   "name": "textsearch"
  },
  "language_info": {
   "codemirror_mode": {
    "name": "ipython",
    "version": 3
   },
   "file_extension": ".py",
   "mimetype": "text/x-python",
   "name": "python",
   "nbconvert_exporter": "python",
   "pygments_lexer": "ipython3",
   "version": "3.6.2"
  }
 },
 "nbformat": 4,
 "nbformat_minor": 2
}
